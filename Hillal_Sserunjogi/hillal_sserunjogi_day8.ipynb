{
 "cells": [
  {
   "cell_type": "code",
   "execution_count": 17,
   "metadata": {},
   "outputs": [],
   "source": [
    "# Data science with python \n",
    "# Applications of data science\n",
    "# Data science -> Extract knowledge from data through different techniques such as statistics, machine learning, data mining, etc.\n",
    "# Data science is a multidisciplinary field that combines statistics, data analysis, machine learning, domain knowledge, and programming.\n",
    "# Data science is used to extract knowledge from data and make decisions based on data analysis.\n",
    "# Machine learning is a subset of data science that focuses on building predictive models from data.\n",
    "# Data Analysis is the process of inspecting, cleaning, transforming, and modeling data to discover useful information, suggest conclusions, and support decision-making.\n",
    "# Data mining is the process of discovering patterns in large data sets involving methods at the intersection of machine learning, statistics, and database systems.\n"
   ]
  },
  {
   "cell_type": "code",
   "execution_count": 36,
   "metadata": {},
   "outputs": [
    {
     "name": "stdout",
     "output_type": "stream",
     "text": [
      "   number_siblings                   name     sex  age living_allowance  \\\n",
      "0                1     Nakasujja Gertrude  female   33              NaN   \n",
      "1                3  Arinda Asiimwe Atweta  female   23           50,000   \n",
      "2                4    Ndjekornom Victoire    male   23            25000   \n",
      "3                0         KATURAMU EDGAR    male   27           500000   \n",
      "4                4      Abinsinguza Lasse    male   24           100000   \n",
      "\n",
      "                  Are_you_a  How_many_time_do_eat_food  Unnamed: 7  \\\n",
      "0            Data Scientist                          2         NaN   \n",
      "1  Machine Learning Enginer                          1         NaN   \n",
      "2            Data Scientist                          1         NaN   \n",
      "3  Machine Learning Enginer                          2         NaN   \n",
      "4            Data Scientist                          2         NaN   \n",
      "\n",
      "   do_you_have_aboyfriend/girlfriend  \n",
      "0                                  1  \n",
      "1                                  1  \n",
      "2                                  0  \n",
      "3                                  0  \n",
      "4                                  1  \n"
     ]
    }
   ],
   "source": [
    "# Step 1 : Import the neccessary libraries\n",
    "\n",
    "import numpy as np\n",
    "import matplotlib.pyplot as plt\n",
    "import seaborn as sns\n",
    "import pandas as pd\n",
    "\n",
    "\n",
    "df = pd.read_csv('niceguys3.csv')\n",
    "\n",
    "# Display the first 5 rows of the dataset\n",
    "print(df.head())"
   ]
  },
  {
   "cell_type": "code",
   "execution_count": 1,
   "metadata": {},
   "outputs": [
    {
     "ename": "NameError",
     "evalue": "name 'df' is not defined",
     "output_type": "error",
     "traceback": [
      "\u001b[0;31m---------------------------------------------------------------------------\u001b[0m",
      "\u001b[0;31mNameError\u001b[0m                                 Traceback (most recent call last)",
      "Cell \u001b[0;32mIn[1], line 5\u001b[0m\n\u001b[1;32m      1\u001b[0m \u001b[38;5;66;03m# Data Cleaning //Preprocessing\u001b[39;00m\n\u001b[1;32m      2\u001b[0m \u001b[38;5;66;03m# 1.Empty cells 2.Wrong format 3.wrong data 4.Duplicates   5.Outliers\u001b[39;00m\n\u001b[1;32m      3\u001b[0m \n\u001b[1;32m      4\u001b[0m \u001b[38;5;66;03m# Check for missing values\u001b[39;00m\n\u001b[0;32m----> 5\u001b[0m \u001b[38;5;28mprint\u001b[39m(\u001b[43mdf\u001b[49m\u001b[38;5;241m.\u001b[39misnull()\u001b[38;5;241m.\u001b[39msum())\n",
      "\u001b[0;31mNameError\u001b[0m: name 'df' is not defined"
     ]
    }
   ],
   "source": [
    "# Data Cleaning //Preprocessing\n",
    "# 1.Empty cells 2.Wrong format 3.wrong data 4.Duplicates   5.Outliers\n",
    "\n",
    "# Check for missing values\n",
    "print(df.isnull().sum())"
   ]
  },
  {
   "cell_type": "code",
   "execution_count": 41,
   "metadata": {},
   "outputs": [
    {
     "name": "stdout",
     "output_type": "stream",
     "text": [
      "   number_siblings                   name     sex  age  living_allowance  \\\n",
      "0                1     Nakasujja Gertrude  female   33          200000.0   \n",
      "1                3  Arinda Asiimwe Atweta  female   23           50000.0   \n",
      "2                4    Ndjekornom Victoire    male   23           25000.0   \n",
      "3                0         KATURAMU EDGAR    male   27          500000.0   \n",
      "4                4      Abinsinguza Lasse    male   24          100000.0   \n",
      "\n",
      "                  Are_you_a  How_many_time_do_eat_food  Unnamed: 7  \\\n",
      "0            Data Scientist                          2         NaN   \n",
      "1  Machine Learning Enginer                          1         NaN   \n",
      "2            Data Scientist                          1         NaN   \n",
      "3  Machine Learning Enginer                          2         NaN   \n",
      "4            Data Scientist                          2         NaN   \n",
      "\n",
      "   do_you_have_aboyfriend/girlfriend  \n",
      "0                                  1  \n",
      "1                                  1  \n",
      "2                                  0  \n",
      "3                                  0  \n",
      "4                                  1  \n"
     ]
    },
    {
     "name": "stderr",
     "output_type": "stream",
     "text": [
      "/var/folders/h6/rzybbwp521d9hc1hhs2q__fr0000gn/T/ipykernel_26868/1952606256.py:2: FutureWarning: A value is trying to be set on a copy of a DataFrame or Series through chained assignment using an inplace method.\n",
      "The behavior will change in pandas 3.0. This inplace method will never work because the intermediate object on which we are setting values always behaves as a copy.\n",
      "\n",
      "For example, when doing 'df[col].method(value, inplace=True)', try using 'df.method({col: value}, inplace=True)' or df[col] = df[col].method(value) instead, to perform the operation inplace on the original object.\n",
      "\n",
      "\n",
      "  df['living_allowance'].fillna(df['living_allowance'].median(), inplace=True)\n"
     ]
    }
   ],
   "source": [
    "df['living_allowance'] = df['living_allowance'].astype(str).str.replace(',', '').astype(float)\n",
    "df['living_allowance'].fillna(df['living_allowance'].median(), inplace=True)\n",
    "print(df.head())"
   ]
  },
  {
   "cell_type": "code",
   "execution_count": null,
   "metadata": {},
   "outputs": [],
   "source": [
    "# Steps 1: Import the necessary libraries\n",
    "# Step 2: Load the dataset\n",
    "# Step 3: Data cleaning and  Preprocessing\n",
    "# Step 4: EDA Exploratory Data Analysis\n",
    "# Step 5: Data Visualization\n",
    "# Distriibution students with Age and whether they are in a relationship\n",
    "# Gender who have boyfriend and girlfriend\n",
    "# Living allowance with gf and bf\n",
    "# THose with bf or gf have siblings\n",
    "# No meals taken and living allowance\n",
    "\n",
    "\n",
    "# Co-rrelation Heatmap , co-rellation matrix and plot the heatmaps\n",
    "# Decision making / insigths of the data ,data analysis conclusions\n"
   ]
  }
 ],
 "metadata": {
  "kernelspec": {
   "display_name": "Python 3",
   "language": "python",
   "name": "python3"
  },
  "language_info": {
   "codemirror_mode": {
    "name": "ipython",
    "version": 3
   },
   "file_extension": ".py",
   "mimetype": "text/x-python",
   "name": "python",
   "nbconvert_exporter": "python",
   "pygments_lexer": "ipython3",
   "version": "3.12.3"
  }
 },
 "nbformat": 4,
 "nbformat_minor": 2
}
